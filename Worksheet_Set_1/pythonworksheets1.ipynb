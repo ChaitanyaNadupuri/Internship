{
 "cells": [
  {
   "cell_type": "markdown",
   "id": "f236fea0",
   "metadata": {},
   "source": [
    "# (Q11)python program to find the factorial of a number."
   ]
  },
  {
   "cell_type": "code",
   "execution_count": 3,
   "id": "bba73d42",
   "metadata": {},
   "outputs": [
    {
     "name": "stdout",
     "output_type": "stream",
     "text": [
      "Enter a number: 5\n",
      "The factorial of 5 is 120\n"
     ]
    }
   ],
   "source": [
    "def factorial(n):\n",
    "    result = 1\n",
    "    for i in range(1, n+1):\n",
    "        result *= i\n",
    "    return result\n",
    "\n",
    "number = int(input(\"Enter a number: \"))\n",
    "factorial_result = factorial(number)\n",
    "print(\"The factorial of\", number, \"is\", factorial_result)"
   ]
  },
  {
   "cell_type": "markdown",
   "id": "7ad212a8",
   "metadata": {},
   "source": [
    "# (Q12)python program to find whether a number is prime or composite."
   ]
  },
  {
   "cell_type": "code",
   "execution_count": 4,
   "id": "4e1cfbe1",
   "metadata": {},
   "outputs": [
    {
     "name": "stdout",
     "output_type": "stream",
     "text": [
      "Enter a number: 2\n",
      "2 is a prime number.\n"
     ]
    }
   ],
   "source": [
    "def is_prime(n):\n",
    "    if n <= 1:\n",
    "        return False\n",
    "    \n",
    "    for i in range(2, n):\n",
    "        if n % i == 0:\n",
    "            return False\n",
    "    return True\n",
    "\n",
    "number = int(input(\"Enter a number: \"))\n",
    "if is_prime(number):\n",
    "    print(number, \"is a prime number.\")\n",
    "else:\n",
    "    print(number, \"is a composite number.\")\n"
   ]
  },
  {
   "cell_type": "markdown",
   "id": "c5a3c85f",
   "metadata": {},
   "source": [
    "# (Q13)python program to check whether a given string is palindrome or not."
   ]
  },
  {
   "cell_type": "code",
   "execution_count": 5,
   "id": "f788ddd9",
   "metadata": {},
   "outputs": [
    {
     "name": "stdout",
     "output_type": "stream",
     "text": [
      "Enter a string: chaitu\n",
      "The string is not a palindrome.\n"
     ]
    }
   ],
   "source": [
    "def is_palindrome(string):\n",
    "   \n",
    "    string = string.replace(\" \", \"\").lower()\n",
    "\n",
    "    if string == string[::-1]:\n",
    "        return True\n",
    "    else:\n",
    "        return False\n",
    "\n",
    "input_string = input(\"Enter a string: \")\n",
    "if is_palindrome(input_string):\n",
    "    print(\"The string is a palindrome.\")\n",
    "else:\n",
    "    print(\"The string is not a palindrome.\")\n"
   ]
  },
  {
   "cell_type": "markdown",
   "id": "ff95c4d4",
   "metadata": {},
   "source": [
    "# (Q14) Python program to get the third side of right-angled triangle from two given sides."
   ]
  },
  {
   "cell_type": "code",
   "execution_count": 8,
   "id": "5a90bac2",
   "metadata": {},
   "outputs": [
    {
     "name": "stdout",
     "output_type": "stream",
     "text": [
      "Enter the length of side 1: 4\n",
      "Enter the length of side 2: 3\n",
      "The length of the hypotenuse is: 5.0\n"
     ]
    }
   ],
   "source": [
    "import math\n",
    "\n",
    "def find_hypotenuse(side1, side2):\n",
    "    hypotenuse = math.sqrt(side1**2 + side2**2)\n",
    "    return hypotenuse\n",
    "\n",
    "side1 = float(input(\"Enter the length of side 1: \"))\n",
    "side2 = float(input(\"Enter the length of side 2: \"))\n",
    "\n",
    "hypotenuse = find_hypotenuse(side1, side2)\n",
    "print(\"The length of the hypotenuse is:\", hypotenuse)\n"
   ]
  },
  {
   "cell_type": "markdown",
   "id": "5d6f899a",
   "metadata": {},
   "source": [
    "# (Q15)python program to print the frequency of each of the characters present in a given string"
   ]
  },
  {
   "cell_type": "code",
   "execution_count": 10,
   "id": "efbdd735",
   "metadata": {},
   "outputs": [
    {
     "name": "stdout",
     "output_type": "stream",
     "text": [
      "Enter a string: garden\n",
      "Character 'g' appears 1 time(s) in the string.\n",
      "Character 'a' appears 1 time(s) in the string.\n",
      "Character 'r' appears 1 time(s) in the string.\n",
      "Character 'd' appears 1 time(s) in the string.\n",
      "Character 'e' appears 1 time(s) in the string.\n",
      "Character 'n' appears 1 time(s) in the string.\n"
     ]
    }
   ],
   "source": [
    "def count_character_frequency(string):\n",
    "    frequency = {}\n",
    "\n",
    "    for char in string:\n",
    "        if char in frequency:\n",
    "            frequency[char] += 1\n",
    "        else:\n",
    "            frequency[char] = 1\n",
    "\n",
    "    for char, count in frequency.items():\n",
    "        print(f\"Character '{char}' appears {count} time(s) in the string.\")\n",
    "\n",
    "input_string = input(\"Enter a string: \")\n",
    "count_character_frequency(input_string)\n"
   ]
  },
  {
   "cell_type": "code",
   "execution_count": null,
   "id": "923b6d63",
   "metadata": {},
   "outputs": [],
   "source": []
  },
  {
   "cell_type": "code",
   "execution_count": null,
   "id": "257602a1",
   "metadata": {},
   "outputs": [],
   "source": []
  }
 ],
 "metadata": {
  "kernelspec": {
   "display_name": "Python 3 (ipykernel)",
   "language": "python",
   "name": "python3"
  },
  "language_info": {
   "codemirror_mode": {
    "name": "ipython",
    "version": 3
   },
   "file_extension": ".py",
   "mimetype": "text/x-python",
   "name": "python",
   "nbconvert_exporter": "python",
   "pygments_lexer": "ipython3",
   "version": "3.9.13"
  }
 },
 "nbformat": 4,
 "nbformat_minor": 5
}
